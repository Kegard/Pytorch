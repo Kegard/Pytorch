{
 "cells": [
  {
   "cell_type": "markdown",
   "metadata": {},
   "source": [
    "## Tensor\n",
    "在Pytorch中，Tensor(张量)属于一种数据结构，他可以是一个标量，一个向量，一个矩阵，甚至是更高维的数组，因此Pytorch中的Tensor和Numpy中的数组非常相似，但是Tensor可以在GPU上加速运算。\n",
    "\n",
    "同时应该注意的是，在Pytorc的0.4版本之前，Tensor是不能计算梯度的，因此需要Variable来包装Tensor，但是在0.4版本之后，Variable和Tensor合并了，Tensor可以直接计算梯度了。\n",
    "\n",
    "下面介绍一下Tensor的基本使用：\n"
   ]
  },
  {
   "cell_type": "markdown",
   "metadata": {},
   "source": [
    "### 数据类型\n",
    "torch 在CPU和GPU中 Tensor分别有8中数据类型，主要包括以下：\n",
    "1. torch.float32 或 torch.float：32位浮点数\n",
    "2. torch.float64 或 torch.double：64位双精度浮点数\n",
    "3. torch.float16 或 torch.half：16位半精度浮点数\n",
    "4. torch.int8：8位整数（有符号）\n",
    "5. torch.uint8：8位整数（无符号）\n",
    "6. torch.int16 或 torch.short：16位整数（有符号）\n",
    "7. torch.int32 或 torch.int：32位整数（有符号）\n",
    "8. torch.int64 或 torch.long：64位整数（有符号）\n",
    "\n",
    "注意：在 GPU 上，不是所有的数据类型都被支持。例如，torch.int8 和 torch.uint8 在 GPU 上可能不被支持。"
   ]
  },
  {
   "cell_type": "code",
   "execution_count": 1,
   "metadata": {},
   "outputs": [
    {
     "name": "stderr",
     "output_type": "stream",
     "text": [
      "d:\\Anaconda\\envs\\pytorch\\lib\\site-packages\\tqdm\\auto.py:21: TqdmWarning: IProgress not found. Please update jupyter and ipywidgets. See https://ipywidgets.readthedocs.io/en/stable/user_install.html\n",
      "  from .autonotebook import tqdm as notebook_tqdm\n"
     ]
    },
    {
     "data": {
      "text/plain": [
       "torch.float32"
      ]
     },
     "execution_count": 1,
     "metadata": {},
     "output_type": "execute_result"
    }
   ],
   "source": [
    "# 导入需要的库\n",
    "import torch\n",
    "# 获得Tensor的数据类型\n",
    "torch.tensor([1.2,3.4]).dtype"
   ]
  },
  {
   "cell_type": "code",
   "execution_count": 3,
   "metadata": {},
   "outputs": [
    {
     "data": {
      "text/plain": [
       "torch.float64"
      ]
     },
     "execution_count": 3,
     "metadata": {},
     "output_type": "execute_result"
    }
   ],
   "source": [
    "# 更改默认数据类型\n",
    "torch.set_default_dtype(torch.float64)\n",
    "\n",
    "# 获得Tensor的数据类型\n",
    "torch.tensor([1.2,3.4]).dtype"
   ]
  },
  {
   "cell_type": "markdown",
   "metadata": {},
   "source": [
    "### 生成Tensor\n",
    "\n",
    "在Pytorch中，有多种方式可以生成一个Tensor，下面使用具体代码介绍如何使用pytorch生成tensor\n"
   ]
  },
  {
   "cell_type": "markdown",
   "metadata": {},
   "source": [
    "使用torch.tensor()将Python的列表转换为Tensor"
   ]
  },
  {
   "cell_type": "code",
   "execution_count": 4,
   "metadata": {},
   "outputs": [
    {
     "data": {
      "text/plain": [
       "tensor([1.2000, 3.4000])"
      ]
     },
     "execution_count": 4,
     "metadata": {},
     "output_type": "execute_result"
    }
   ],
   "source": [
    "# 使用torch.tensor()创建Tensor\n",
    "A = torch.tensor([1.2,3.4])\n",
    "A\n",
    "\n",
    "# 使用dtype指定tensor的数据类型\n",
    "# 使用requires_grad指定是否需要梯度\n",
    "A = torch.tensor([1.2,3.4],dtype=torch.float32,requires_grad=True)\n",
    "\n",
    "#注意，只有浮点类型的tensor才能指定是否需要梯度"
   ]
  },
  {
   "cell_type": "markdown",
   "metadata": {},
   "source": [
    "使用torch.Tensor() 生成Tensor，而且可以指定形状"
   ]
  },
  {
   "cell_type": "code",
   "execution_count": null,
   "metadata": {},
   "outputs": [],
   "source": [
    "# 使用torch.Tensor() 创建Tensor\n",
    "B = torch.Tensor([1.2,3.4])\n",
    "\n",
    "# 创建一个 Tensor，形状为 [3, 3]\n",
    "B = torch.Tensor(3, 3)"
   ]
  },
  {
   "cell_type": "markdown",
   "metadata": {},
   "source": [
    "针对已经生成的Tensor，使用torch.**_like() 系列函数生成与指定tensor维度相同、性质相似的张量"
   ]
  },
  {
   "cell_type": "code",
   "execution_count": null,
   "metadata": {},
   "outputs": [],
   "source": [
    "# 创建一个与B相同大小，全为1的tensor\n",
    "C = torch.ones_like(B)\n",
    "\n",
    "# 创建一个与B相同大小，全为0的tensor\n",
    "D = torch.zeros_like(B)\n",
    "\n",
    "# 创建一个与B相同大小的随机tensor\n",
    "E = torch.rand_like(B)"
   ]
  },
  {
   "cell_type": "markdown",
   "metadata": {},
   "source": [
    "### Tensor 与 Numpy的相互转换\n",
    "Pytorch 提供了Numpy数组和Pytorch张量的相互转换函数。\n",
    "\n",
    "将Numpy数字转换为Pytorch张量，使用torch.as_tensor()和torch.from_numpy()"
   ]
  },
  {
   "cell_type": "code",
   "execution_count": null,
   "metadata": {},
   "outputs": [],
   "source": [
    "# 利用numpy生成张量\n",
    "import numpy as np\n",
    "F = np.array([[1,2,3],[4,5,6]])\n",
    "G = torch.from_numpy(F)"
   ]
  },
  {
   "cell_type": "code",
   "execution_count": null,
   "metadata": {},
   "outputs": [],
   "source": [
    "# 使用torch.numpy()转化Numpy数组\n",
    "H = G.numpy()"
   ]
  },
  {
   "cell_type": "markdown",
   "metadata": {},
   "source": [
    "### 随机生成张量\n",
    "Pytorch中可以使用随机数生成张量，并且可以指定生成随机数的分布函数。\n",
    "生成随机数前，使用torch.manual_seed()指定生成随机数的种子，用于保证生成随机数可以重复出现。"
   ]
  },
  {
   "cell_type": "code",
   "execution_count": null,
   "metadata": {},
   "outputs": [],
   "source": [
    "# 使用指定均值和方差生成随机数\n",
    "torch.manual_seed(0)\n",
    "A = torch.normal(mean=torch.full([10],0),std=torch.arange(1,0,-0.1))"
   ]
  },
  {
   "cell_type": "markdown",
   "metadata": {},
   "source": [
    "使用torch.rand() 在区间[0, 1]内生成一服从均匀分布的随机数。"
   ]
  },
  {
   "cell_type": "code",
   "execution_count": null,
   "metadata": {},
   "outputs": [],
   "source": [
    "# 使用torch.rand() 在区间[0, 1]内生成一服从均匀分布的随机数。\n",
    "torch.manual_seed(0)\n",
    "B = torch.rand(3,4)"
   ]
  },
  {
   "cell_type": "markdown",
   "metadata": {},
   "source": [
    "使用torch.rand_like() 生成与其他维度相同的随机数。"
   ]
  },
  {
   "cell_type": "code",
   "execution_count": null,
   "metadata": {},
   "outputs": [],
   "source": [
    "# 使用torch.rand_like() 生成与其他维度相同的随机数。\n",
    "torch.manual_seed(0)\n",
    "C = torch.rand_like(B)"
   ]
  },
  {
   "cell_type": "markdown",
   "metadata": {},
   "source": [
    "使用torch.randn()生成服从标准正态分布的随机数。"
   ]
  },
  {
   "cell_type": "code",
   "execution_count": null,
   "metadata": {},
   "outputs": [],
   "source": [
    "# 使用torch.randn()生成服从标准正态分布的随机数。\n",
    "torch.manual_seed(0)\n",
    "D = torch.randn(3,4)\n",
    "E= torch.randn_like(B)"
   ]
  },
  {
   "cell_type": "markdown",
   "metadata": {},
   "source": [
    "torch.randperm(n) 生成一个从 0 到 n-1 的随机排列。"
   ]
  },
  {
   "cell_type": "code",
   "execution_count": null,
   "metadata": {},
   "outputs": [],
   "source": [
    "# torch.randperm(n) 生成一个从 0 到 n-1 的随机排列。\n",
    "torch.manual_seed(0)\n",
    "F = torch.randperm(10)"
   ]
  },
  {
   "cell_type": "markdown",
   "metadata": {},
   "source": [
    "torch.arange() 生成一个给定范围内的连续整数张量。参数：起始值、结束值和步长"
   ]
  },
  {
   "cell_type": "code",
   "execution_count": null,
   "metadata": {},
   "outputs": [],
   "source": [
    "# torch.arange()\n",
    "A = torch.arange(0,10)"
   ]
  },
  {
   "cell_type": "markdown",
   "metadata": {},
   "source": [
    "torch.linspace() 生成给定范围内的等间隔整数或浮点数张量"
   ]
  },
  {
   "cell_type": "code",
   "execution_count": null,
   "metadata": {},
   "outputs": [],
   "source": [
    "# torch.linspace()\n",
    "B = torch.linspace(0,10,steps=5)"
   ]
  },
  {
   "cell_type": "markdown",
   "metadata": {},
   "source": [
    "### Tensor 操作\n",
    "对于Tensor的操作，主要是改变Tensor的形状、提取Tensor元素、统计Tensor信息等"
   ]
  },
  {
   "cell_type": "markdown",
   "metadata": {},
   "source": [
    "改变tensor形状的操作主要包括以下几种：\n",
    "1. `reshape()`: 这个函数返回一个具有相同数据但大小不同的 tensor。如果可能，返回的 tensor 将是原始 tensor 的视图。否则，它将返回一个副本。注意，如果原始 tensor 的大小是可分的，那么新 tensor 的大小必须与原始 tensor 的大小相同。\n",
    "\n",
    "2. `resize_()`: 这个函数返回相同数据的 tensor，但形状已经改变。与 `reshape()` 不同，此函数可以改变 tensor 的大小。\n",
    "\n",
    "3. `view()`: 这个函数返回一个具有相同数据但大小不同的 tensor。返回的 tensor 必须有与原始 tensor 相同的数据和数量。\n",
    "\n",
    "4. `permute()`: 这个函数返回一个具有相同数据但维度不同的 tensor。它可以用来交换 tensor 的维度。\n",
    "\n",
    "5. `squeeze()`: 这个函数返回一个具有相同数据但所有维度为1的维度都被移除的 tensor。\n",
    "\n",
    "6. `unsqueeze()`: 这个函数返回一个具有相同数据但在指定位置添加一个维度的 tensor。"
   ]
  },
  {
   "cell_type": "code",
   "execution_count": null,
   "metadata": {},
   "outputs": [],
   "source": [
    "import torch\n",
    "\n",
    "# 创建一个形状为 [2, 2] 的 tensor\n",
    "x = torch.tensor([[1, 2], [3, 4]])\n",
    "print(x)\n",
    "\n",
    "# 使用 reshape 改变 tensor 的形状\n",
    "y = x.reshape(4, 1)\n",
    "print(y)\n",
    "\n",
    "# 使用 view 改变 tensor 的形状\n",
    "z = x.view(4, 1)\n",
    "print(z)\n",
    "\n",
    "# 使用 permute 改变 tensor 的维度\n",
    "p = x.permute(1, 0)\n",
    "print(p)\n",
    "\n",
    "# 使用 squeeze 移除 tensor 的所有维度为1的维度\n",
    "s = x.squeeze()\n",
    "print(s)\n",
    "\n",
    "# 使用 unsqueeze 在指定位置添加一个维度\n",
    "u = x.unsqueeze(0)\n",
    "print(u)"
   ]
  }
 ],
 "metadata": {
  "kernelspec": {
   "display_name": "pytorch",
   "language": "python",
   "name": "python3"
  },
  "language_info": {
   "codemirror_mode": {
    "name": "ipython",
    "version": 3
   },
   "file_extension": ".py",
   "mimetype": "text/x-python",
   "name": "python",
   "nbconvert_exporter": "python",
   "pygments_lexer": "ipython3",
   "version": "3.8.0"
  }
 },
 "nbformat": 4,
 "nbformat_minor": 2
}
